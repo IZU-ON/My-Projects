{
 "cells": [
  {
   "cell_type": "markdown",
   "id": "269e3e3a",
   "metadata": {},
   "source": [
    "# INSTAGRAM REACH ANALYSIS AND PREDICTION"
   ]
  },
  {
   "cell_type": "code",
   "execution_count": 3,
   "id": "39e48055",
   "metadata": {},
   "outputs": [
    {
     "ename": "ModuleNotFoundError",
     "evalue": "No module named 'plotly'",
     "output_type": "error",
     "traceback": [
      "\u001b[1;31m---------------------------------------------------------------------------\u001b[0m",
      "\u001b[1;31mModuleNotFoundError\u001b[0m                       Traceback (most recent call last)",
      "Cell \u001b[1;32mIn[3], line 5\u001b[0m\n\u001b[0;32m      3\u001b[0m \u001b[38;5;28;01mimport\u001b[39;00m \u001b[38;5;21;01mmatplotlib\u001b[39;00m\u001b[38;5;21;01m.\u001b[39;00m\u001b[38;5;21;01mpyplot\u001b[39;00m \u001b[38;5;28;01mas\u001b[39;00m \u001b[38;5;21;01mplt\u001b[39;00m\n\u001b[0;32m      4\u001b[0m \u001b[38;5;28;01mimport\u001b[39;00m \u001b[38;5;21;01mseaborn\u001b[39;00m \u001b[38;5;28;01mas\u001b[39;00m \u001b[38;5;21;01msns\u001b[39;00m\n\u001b[1;32m----> 5\u001b[0m \u001b[38;5;28;01mimport\u001b[39;00m \u001b[38;5;21;01mplotly\u001b[39;00m\u001b[38;5;21;01m.\u001b[39;00m\u001b[38;5;21;01mexpress\u001b[39;00m \u001b[38;5;28;01mas\u001b[39;00m \u001b[38;5;21;01mpx\u001b[39;00m\n\u001b[0;32m      6\u001b[0m \u001b[38;5;28;01mfrom\u001b[39;00m \u001b[38;5;21;01msklearn\u001b[39;00m\u001b[38;5;21;01m.\u001b[39;00m\u001b[38;5;21;01mmodel_selection\u001b[39;00m \u001b[38;5;28;01mimport\u001b[39;00m train_test_split\n\u001b[0;32m      7\u001b[0m \u001b[38;5;28;01mfrom\u001b[39;00m \u001b[38;5;21;01msklearn\u001b[39;00m\u001b[38;5;21;01m.\u001b[39;00m\u001b[38;5;21;01mlinear_model\u001b[39;00m \u001b[38;5;28;01mimport\u001b[39;00m PassiveAggressiveRegressor\n",
      "\u001b[1;31mModuleNotFoundError\u001b[0m: No module named 'plotly'"
     ]
    }
   ],
   "source": [
    "import pandas as pd\n",
    "import numpy as np\n",
    "import matplotlib.pyplot as plt\n",
    "import seaborn as sns\n",
    "import plotly.express as px\n",
    "from sklearn.model_selection import train_test_split\n",
    "from sklearn.linear_model import PassiveAggressiveRegressor"
   ]
  },
  {
   "cell_type": "code",
   "execution_count": 5,
   "id": "29a5bf25",
   "metadata": {},
   "outputs": [
    {
     "name": "stdout",
     "output_type": "stream",
     "text": [
      "Defaulting to user installation because normal site-packages is not writeable\n",
      "Collecting plotly\n",
      "  Downloading plotly-5.22.0-py3-none-any.whl.metadata (7.1 kB)\n",
      "Collecting tenacity>=6.2.0 (from plotly)\n",
      "  Downloading tenacity-8.3.0-py3-none-any.whl.metadata (1.2 kB)\n",
      "Requirement already satisfied: packaging in c:\\users\\izu\\appdata\\roaming\\python\\python311\\site-packages (from plotly) (23.2)\n",
      "Downloading plotly-5.22.0-py3-none-any.whl (16.4 MB)\n",
      "   ---------------------------------------- 0.0/16.4 MB ? eta -:--:--\n",
      "   ---------------------------------------- 0.0/16.4 MB ? eta -:--:--\n",
      "   ---------------------------------------- 0.0/16.4 MB 640.0 kB/s eta 0:00:26\n",
      "   ---------------------------------------- 0.1/16.4 MB 651.6 kB/s eta 0:00:26\n",
      "   ---------------------------------------- 0.1/16.4 MB 655.4 kB/s eta 0:00:25\n",
      "   ---------------------------------------- 0.2/16.4 MB 807.1 kB/s eta 0:00:21\n",
      "    --------------------------------------- 0.2/16.4 MB 981.9 kB/s eta 0:00:17\n",
      "    --------------------------------------- 0.3/16.4 MB 930.9 kB/s eta 0:00:18\n",
      "    --------------------------------------- 0.4/16.4 MB 1.1 MB/s eta 0:00:15\n",
      "   - -------------------------------------- 0.5/16.4 MB 1.3 MB/s eta 0:00:13\n",
      "   - -------------------------------------- 0.6/16.4 MB 1.4 MB/s eta 0:00:12\n",
      "   -- ------------------------------------- 0.8/16.4 MB 1.7 MB/s eta 0:00:09\n",
      "   -- ------------------------------------- 1.1/16.4 MB 2.0 MB/s eta 0:00:08\n",
      "   -- ------------------------------------- 1.2/16.4 MB 2.1 MB/s eta 0:00:08\n",
      "   --- ------------------------------------ 1.4/16.4 MB 2.3 MB/s eta 0:00:07\n",
      "   --- ------------------------------------ 1.6/16.4 MB 2.3 MB/s eta 0:00:07\n",
      "   ---- ----------------------------------- 1.8/16.4 MB 2.5 MB/s eta 0:00:06\n",
      "   ---- ----------------------------------- 1.8/16.4 MB 2.4 MB/s eta 0:00:07\n",
      "   ----- ---------------------------------- 2.1/16.4 MB 2.6 MB/s eta 0:00:06\n",
      "   ----- ---------------------------------- 2.3/16.4 MB 2.7 MB/s eta 0:00:06\n",
      "   ----- ---------------------------------- 2.5/16.4 MB 2.7 MB/s eta 0:00:06\n",
      "   ------ --------------------------------- 2.8/16.4 MB 2.9 MB/s eta 0:00:05\n",
      "   ------- -------------------------------- 2.9/16.4 MB 2.9 MB/s eta 0:00:05\n",
      "   ------- -------------------------------- 3.1/16.4 MB 2.9 MB/s eta 0:00:05\n",
      "   -------- ------------------------------- 3.4/16.4 MB 3.1 MB/s eta 0:00:05\n",
      "   -------- ------------------------------- 3.7/16.4 MB 3.2 MB/s eta 0:00:04\n",
      "   --------- ------------------------------ 3.8/16.4 MB 3.2 MB/s eta 0:00:04\n",
      "   --------- ------------------------------ 3.9/16.4 MB 3.2 MB/s eta 0:00:04\n",
      "   ---------- ----------------------------- 4.1/16.4 MB 3.2 MB/s eta 0:00:04\n",
      "   ---------- ----------------------------- 4.4/16.4 MB 3.3 MB/s eta 0:00:04\n",
      "   ----------- ---------------------------- 4.6/16.4 MB 3.3 MB/s eta 0:00:04\n",
      "   ----------- ---------------------------- 4.8/16.4 MB 3.4 MB/s eta 0:00:04\n",
      "   ------------ --------------------------- 5.1/16.4 MB 3.5 MB/s eta 0:00:04\n",
      "   ------------ --------------------------- 5.2/16.4 MB 3.5 MB/s eta 0:00:04\n",
      "   ------------- -------------------------- 5.3/16.4 MB 3.4 MB/s eta 0:00:04\n",
      "   ------------- -------------------------- 5.5/16.4 MB 3.4 MB/s eta 0:00:04\n",
      "   ------------- -------------------------- 5.6/16.4 MB 3.4 MB/s eta 0:00:04\n",
      "   -------------- ------------------------- 5.8/16.4 MB 3.4 MB/s eta 0:00:04\n",
      "   -------------- ------------------------- 5.9/16.4 MB 3.4 MB/s eta 0:00:04\n",
      "   -------------- ------------------------- 6.1/16.4 MB 3.4 MB/s eta 0:00:04\n",
      "   --------------- ------------------------ 6.2/16.4 MB 3.4 MB/s eta 0:00:04\n",
      "   --------------- ------------------------ 6.3/16.4 MB 3.3 MB/s eta 0:00:04\n",
      "   --------------- ------------------------ 6.4/16.4 MB 3.3 MB/s eta 0:00:04\n",
      "   --------------- ------------------------ 6.5/16.4 MB 3.3 MB/s eta 0:00:04\n",
      "   --------------- ------------------------ 6.6/16.4 MB 3.2 MB/s eta 0:00:04\n",
      "   ---------------- ----------------------- 6.7/16.4 MB 3.2 MB/s eta 0:00:03\n",
      "   ---------------- ----------------------- 6.9/16.4 MB 3.2 MB/s eta 0:00:03\n",
      "   ----------------- ---------------------- 7.0/16.4 MB 3.3 MB/s eta 0:00:03\n",
      "   ----------------- ---------------------- 7.2/16.4 MB 3.2 MB/s eta 0:00:03\n",
      "   ------------------ --------------------- 7.4/16.4 MB 3.3 MB/s eta 0:00:03\n",
      "   ------------------ --------------------- 7.6/16.4 MB 3.3 MB/s eta 0:00:03\n",
      "   ------------------ --------------------- 7.7/16.4 MB 3.3 MB/s eta 0:00:03\n",
      "   ------------------- -------------------- 7.9/16.4 MB 3.3 MB/s eta 0:00:03\n",
      "   ------------------- -------------------- 8.0/16.4 MB 3.3 MB/s eta 0:00:03\n",
      "   ------------------- -------------------- 8.2/16.4 MB 3.3 MB/s eta 0:00:03\n",
      "   -------------------- ------------------- 8.3/16.4 MB 3.3 MB/s eta 0:00:03\n",
      "   -------------------- ------------------- 8.5/16.4 MB 3.3 MB/s eta 0:00:03\n",
      "   --------------------- ------------------ 8.6/16.4 MB 3.2 MB/s eta 0:00:03\n",
      "   --------------------- ------------------ 8.8/16.4 MB 3.2 MB/s eta 0:00:03\n",
      "   --------------------- ------------------ 8.9/16.4 MB 3.3 MB/s eta 0:00:03\n",
      "   ---------------------- ----------------- 9.0/16.4 MB 3.2 MB/s eta 0:00:03\n",
      "   ---------------------- ----------------- 9.1/16.4 MB 3.2 MB/s eta 0:00:03\n",
      "   ---------------------- ----------------- 9.2/16.4 MB 3.2 MB/s eta 0:00:03\n",
      "   ---------------------- ----------------- 9.2/16.4 MB 3.1 MB/s eta 0:00:03\n",
      "   ---------------------- ----------------- 9.3/16.4 MB 3.1 MB/s eta 0:00:03\n",
      "   ---------------------- ----------------- 9.4/16.4 MB 3.1 MB/s eta 0:00:03\n",
      "   ----------------------- ---------------- 9.5/16.4 MB 3.1 MB/s eta 0:00:03\n",
      "   ----------------------- ---------------- 9.5/16.4 MB 3.0 MB/s eta 0:00:03\n",
      "   ----------------------- ---------------- 9.6/16.4 MB 3.0 MB/s eta 0:00:03\n",
      "   ----------------------- ---------------- 9.7/16.4 MB 3.0 MB/s eta 0:00:03\n",
      "   ----------------------- ---------------- 9.7/16.4 MB 3.0 MB/s eta 0:00:03\n",
      "   ----------------------- ---------------- 9.8/16.4 MB 3.0 MB/s eta 0:00:03\n",
      "   ------------------------ --------------- 9.9/16.4 MB 2.9 MB/s eta 0:00:03\n",
      "   ------------------------ --------------- 9.9/16.4 MB 2.9 MB/s eta 0:00:03\n",
      "   ------------------------ --------------- 10.0/16.4 MB 2.9 MB/s eta 0:00:03\n",
      "   ------------------------ --------------- 10.1/16.4 MB 2.9 MB/s eta 0:00:03\n",
      "   ------------------------ --------------- 10.2/16.4 MB 2.9 MB/s eta 0:00:03\n",
      "   ------------------------ --------------- 10.3/16.4 MB 2.9 MB/s eta 0:00:03\n",
      "   ------------------------- -------------- 10.3/16.4 MB 2.9 MB/s eta 0:00:03\n",
      "   ------------------------- -------------- 10.4/16.4 MB 2.9 MB/s eta 0:00:03\n",
      "   ------------------------- -------------- 10.4/16.4 MB 2.9 MB/s eta 0:00:03\n",
      "   ------------------------- -------------- 10.5/16.4 MB 2.9 MB/s eta 0:00:03\n",
      "   ------------------------- -------------- 10.5/16.4 MB 2.9 MB/s eta 0:00:03\n",
      "   ------------------------- -------------- 10.6/16.4 MB 2.9 MB/s eta 0:00:03\n",
      "   ------------------------- -------------- 10.6/16.4 MB 2.9 MB/s eta 0:00:03\n",
      "   -------------------------- ------------- 10.7/16.4 MB 2.8 MB/s eta 0:00:03\n",
      "   -------------------------- ------------- 10.8/16.4 MB 2.8 MB/s eta 0:00:02\n",
      "   -------------------------- ------------- 10.8/16.4 MB 2.8 MB/s eta 0:00:02\n",
      "   -------------------------- ------------- 10.9/16.4 MB 2.8 MB/s eta 0:00:02\n",
      "   -------------------------- ------------- 11.0/16.4 MB 2.8 MB/s eta 0:00:02\n",
      "   -------------------------- ------------- 11.0/16.4 MB 2.7 MB/s eta 0:00:02\n",
      "   --------------------------- ------------ 11.1/16.4 MB 2.7 MB/s eta 0:00:02\n",
      "   --------------------------- ------------ 11.2/16.4 MB 2.7 MB/s eta 0:00:02\n",
      "   --------------------------- ------------ 11.3/16.4 MB 2.7 MB/s eta 0:00:02\n",
      "   --------------------------- ------------ 11.3/16.4 MB 2.7 MB/s eta 0:00:02\n",
      "   --------------------------- ------------ 11.4/16.4 MB 2.7 MB/s eta 0:00:02\n",
      "   ---------------------------- ----------- 11.5/16.4 MB 2.6 MB/s eta 0:00:02\n",
      "   ---------------------------- ----------- 11.6/16.4 MB 2.6 MB/s eta 0:00:02\n",
      "   ---------------------------- ----------- 11.8/16.4 MB 2.6 MB/s eta 0:00:02\n",
      "   ----------------------------- ---------- 11.9/16.4 MB 2.6 MB/s eta 0:00:02\n",
      "   ----------------------------- ---------- 12.0/16.4 MB 2.6 MB/s eta 0:00:02\n",
      "   ----------------------------- ---------- 12.3/16.4 MB 2.6 MB/s eta 0:00:02\n",
      "   ----------------------------- ---------- 12.3/16.4 MB 2.6 MB/s eta 0:00:02\n",
      "   ------------------------------ --------- 12.6/16.4 MB 2.6 MB/s eta 0:00:02\n",
      "   ------------------------------- -------- 12.8/16.4 MB 2.6 MB/s eta 0:00:02\n",
      "   ------------------------------- -------- 13.0/16.4 MB 2.6 MB/s eta 0:00:02\n",
      "   -------------------------------- ------- 13.3/16.4 MB 2.6 MB/s eta 0:00:02\n",
      "   -------------------------------- ------- 13.4/16.4 MB 2.6 MB/s eta 0:00:02\n",
      "   --------------------------------- ------ 13.7/16.4 MB 2.6 MB/s eta 0:00:02\n",
      "   --------------------------------- ------ 13.9/16.4 MB 2.6 MB/s eta 0:00:01\n",
      "   ----------------------------------- ---- 14.6/16.4 MB 2.6 MB/s eta 0:00:01\n",
      "   ------------------------------------ --- 14.9/16.4 MB 2.6 MB/s eta 0:00:01\n",
      "   -------------------------------------- - 15.7/16.4 MB 2.6 MB/s eta 0:00:01\n",
      "   -------------------------------------- - 16.0/16.4 MB 2.7 MB/s eta 0:00:01\n",
      "   ---------------------------------------  16.2/16.4 MB 2.6 MB/s eta 0:00:01\n",
      "   ---------------------------------------  16.2/16.4 MB 2.6 MB/s eta 0:00:01\n",
      "   ---------------------------------------  16.2/16.4 MB 2.6 MB/s eta 0:00:01\n",
      "   ---------------------------------------  16.3/16.4 MB 2.6 MB/s eta 0:00:01\n",
      "   ---------------------------------------  16.4/16.4 MB 2.5 MB/s eta 0:00:01\n",
      "   ---------------------------------------  16.4/16.4 MB 2.5 MB/s eta 0:00:01\n",
      "   ---------------------------------------- 16.4/16.4 MB 2.5 MB/s eta 0:00:00\n",
      "Downloading tenacity-8.3.0-py3-none-any.whl (25 kB)\n",
      "Installing collected packages: tenacity, plotly\n",
      "Successfully installed plotly-5.22.0 tenacity-8.3.0\n"
     ]
    }
   ],
   "source": [
    "!pip install plotly"
   ]
  },
  {
   "cell_type": "code",
   "execution_count": null,
   "id": "464184f2",
   "metadata": {},
   "outputs": [],
   "source": [
    "data = pd.read_csv(r\"C:\\Users\\IZU\\Downloads\\Instagram data.csv\",encoding = 'latin1')\n",
    "data"
   ]
  },
  {
   "cell_type": "code",
   "execution_count": null,
   "id": "058543e1",
   "metadata": {},
   "outputs": [],
   "source": [
    "data.head()"
   ]
  },
  {
   "cell_type": "markdown",
   "id": "619963e1",
   "metadata": {},
   "source": [
    "Before starting everything, let’s have a look at whether this dataset contains any null values or not:"
   ]
  },
  {
   "cell_type": "code",
   "execution_count": null,
   "id": "11a2808e",
   "metadata": {},
   "outputs": [],
   "source": [
    "# it don't have null if it has null value mean we ahve to use below code\n",
    "\n",
    "data = data.dropna()\n",
    "data.isnull().sum()"
   ]
  },
  {
   "cell_type": "code",
   "execution_count": null,
   "id": "ecb2a532",
   "metadata": {},
   "outputs": [],
   "source": [
    "data.info()"
   ]
  },
  {
   "cell_type": "markdown",
   "id": "9c3306e7",
   "metadata": {},
   "source": [
    "# Analyzing Intragram Reach\n",
    "Now let’s start with analyzing the reach of Instagram posts. I will first have a look at the distribution of impressions I have received from home:"
   ]
  },
  {
   "cell_type": "code",
   "execution_count": null,
   "id": "0364c21d",
   "metadata": {},
   "outputs": [],
   "source": [
    "plt.figure(figsize=(10,6))\n",
    "#plt.style.use('fivethirtyeight')\n",
    "plt.title(\"Distribution of Imperssions From Home\")\n",
    "sns.distplot(data[\"From Home\"])\n",
    "plt.show()"
   ]
  },
  {
   "cell_type": "code",
   "execution_count": null,
   "id": "ccdcd520",
   "metadata": {},
   "outputs": [],
   "source": [
    "plt.figure(figsize=(10,8))\n",
    "#plt.style.use('fivethirtyeight')\n",
    "plt.title(\"Distribution of Imperssions From Hashtags\")\n",
    "sns.distplot(data[\"From Hashtags\"])\n",
    "plt.show()"
   ]
  },
  {
   "cell_type": "code",
   "execution_count": null,
   "id": "d61d0a90",
   "metadata": {},
   "outputs": [],
   "source": [
    "plt.figure(figsize=(10,8))\n",
    "#plt.style.use('fivethirtyeight')\n",
    "plt.title(\"Distribution of Imperssions From Explore\")\n",
    "sns.distplot(data[\"From Explore\"],bins=10)\n",
    "plt.show()"
   ]
  },
  {
   "cell_type": "code",
   "execution_count": null,
   "id": "608798a6",
   "metadata": {},
   "outputs": [],
   "source": [
    "# fro creating pie chart\n",
    "home = data['From Home'].sum()\n",
    "hastags = data['From Hashtags'].sum()\n",
    "explore = data['From Explore'].sum()\n",
    "other = data['From Other'].sum()"
   ]
  },
  {
   "cell_type": "code",
   "execution_count": null,
   "id": "a0625a9b",
   "metadata": {},
   "outputs": [],
   "source": [
    "labels = ['From Home','From Hashtags','From Explore','From Other']\n",
    "column_names = [home,hastags,explore,other]\n",
    "fig = px.pie(values=column_names,names=labels,title=\"Donut View - Impersion on Intagram Posts\",hole=0.4)\n",
    "fig.show()"
   ]
  },
  {
   "cell_type": "markdown",
   "id": "c84bc016",
   "metadata": {},
   "source": [
    "# Analyzing Instagram Content"
   ]
  },
  {
   "cell_type": "markdown",
   "id": "b85ea4fd",
   "metadata": {},
   "source": [
    "Now let’s analyze the content of my Instagram posts. The dataset has two columns, namely caption and hashtags, which will help us understand the kind of content I post on Instagram."
   ]
  },
  {
   "cell_type": "code",
   "execution_count": null,
   "id": "1a02397a",
   "metadata": {},
   "outputs": [],
   "source": [
    "# here we are using wordcloud\n",
    "from wordcloud import WordCloud,STOPWORDS,ImageColorGenerator\n",
    "\n",
    "text = \"\".join(i for i in data.Caption)\n",
    "#stopword is used to remove unwanted words like \"and\",\"is\",\"the\" this are have no meanings\n",
    "stopwords = set(STOPWORDS)\n",
    "wordcloud = WordCloud(stopwords=stopwords,background_color=\"white\").generate(text)\n",
    "plt.style.use(\"classic\")\n",
    "plt.figure(figsize = (12,10))\n",
    "plt.imshow(wordcloud,interpolation='bilinear')\n",
    "plt.title(\"Contents on Captions\")\n",
    "plt.axis(\"off\")\n",
    "plt.show()"
   ]
  },
  {
   "cell_type": "code",
   "execution_count": null,
   "id": "2e9e94eb",
   "metadata": {},
   "outputs": [],
   "source": [
    "text = \"\".join(i for i in data.Hashtags)\n",
    "stopwords = set(STOPWORDS)\n",
    "wordcloud = WordCloud(stopwords=stopwords,background_color=\"white\").generate(text)\n",
    "plt.style.use(\"classic\")\n",
    "plt.figure(figsize = (12,10))\n",
    "plt.imshow(wordcloud,interpolation='bilinear')\n",
    "plt.title(\"Contents on Hastags\")\n",
    "plt.axis(\"off\")\n",
    "plt.show()"
   ]
  },
  {
   "cell_type": "markdown",
   "id": "838b10a7",
   "metadata": {},
   "source": [
    "# Analyzing relationships\n",
    "Now let’s analyze relationships to find the most important factors of our Instagram reach. It will also help us in understanding how the Instagram algorithm works."
   ]
  },
  {
   "cell_type": "markdown",
   "id": "9c8a167e",
   "metadata": {},
   "source": [
    "Relationship between the numebr of likes and the numeber of impressions(views) on instagram posts"
   ]
  },
  {
   "cell_type": "code",
   "execution_count": null,
   "id": "35d0ff24",
   "metadata": {},
   "outputs": [],
   "source": [
    "figure = px.scatter(data_frame = data,\n",
    "                    x =\"Impressions\",\n",
    "                    y=\"Likes\",\n",
    "                    size=\"Likes\",\n",
    "                    trendline=\"ols\",\n",
    "                   title = \"Relationship b/w likes and Views\")\n",
    "figure.show()"
   ]
  },
  {
   "cell_type": "markdown",
   "id": "ffc10f42",
   "metadata": {},
   "source": [
    "now relationship b/w No.of Comments and No.of Impressions(views) "
   ]
  },
  {
   "cell_type": "code",
   "execution_count": null,
   "id": "00e20c18",
   "metadata": {
    "scrolled": true
   },
   "outputs": [],
   "source": [
    "figure = px.scatter(data_frame = data,\n",
    "                    x =\"Impressions\",\n",
    "                    y=\"Comments\",\n",
    "                    size=\"Comments\",\n",
    "                    trendline=\"ols\",\n",
    "                   title = \"Relationship b/w likes and Comments\")\n",
    "figure.show()"
   ]
  },
  {
   "cell_type": "markdown",
   "id": "019502db",
   "metadata": {},
   "source": [
    "Relationship b/w no.of Shares and Imperssions(views)"
   ]
  },
  {
   "cell_type": "code",
   "execution_count": null,
   "id": "62b3be25",
   "metadata": {},
   "outputs": [],
   "source": [
    "figure = px.scatter(data_frame=data,x=\"Impressions\",y=\"Shares\",size=\"Shares\",\n",
    "                    trendline=\"ols\",\n",
    "                    title =\"Relation between the shares and views\")\n",
    "figure.show()"
   ]
  },
  {
   "cell_type": "markdown",
   "id": "37b54396",
   "metadata": {},
   "source": [
    "relationship between no.of saves and no.of Impressions(views)"
   ]
  },
  {
   "cell_type": "code",
   "execution_count": null,
   "id": "b600adb2",
   "metadata": {
    "scrolled": true
   },
   "outputs": [],
   "source": [
    "figure = px.scatter(data_frame=data,x=\"Impressions\",y=\"Saves\",size=\"Saves\",\n",
    "                    trendline=\"ols\",\n",
    "                    title =\"Relation between the saves and views\")\n",
    "figure.show()"
   ]
  },
  {
   "cell_type": "markdown",
   "id": "eeaf1e45",
   "metadata": {},
   "source": [
    "lets have the correlation of all columns with the Impressions"
   ]
  },
  {
   "cell_type": "code",
   "execution_count": null,
   "id": "c095bd0e",
   "metadata": {},
   "outputs": [],
   "source": [
    "correlation = data.corr()\n",
    "print(correlation[\"Impressions\"].sort_values(ascending= False))"
   ]
  },
  {
   "cell_type": "markdown",
   "id": "411dd018",
   "metadata": {},
   "source": [
    "So we can say that more likes and saves will help you get more reach on Instagram. The higher number of shares will also help you get more reach, but a low number of shares will not affect your reach either."
   ]
  },
  {
   "cell_type": "markdown",
   "id": "526c6871",
   "metadata": {},
   "source": [
    "# Analyzing Conversion Rate\n",
    "In Instagram, conversation rate means how many followers you are getting from the number of profile visits from a post. The formula that you can use to calculate conversion rate is (Follows/Profile Visits) * 100. Now let’s have a look at the conversation rate of my Instagram account:"
   ]
  },
  {
   "cell_type": "code",
   "execution_count": null,
   "id": "3b90fdd8",
   "metadata": {},
   "outputs": [],
   "source": [
    "conversion_rate = (data[\"Follows\"].sum() / data[\"Profile Visits\"].sum()) * 100\n",
    "print(conversion_rate)"
   ]
  },
  {
   "cell_type": "markdown",
   "id": "3059ec36",
   "metadata": {},
   "source": [
    "So the conversation rate of my Instagram account is 41% which sounds like a very good conversation rate."
   ]
  },
  {
   "cell_type": "markdown",
   "id": "06d445b1",
   "metadata": {},
   "source": [
    " Let’s have a look at the relationship between the total profile visits and the number of followers gained from all profile visits"
   ]
  },
  {
   "cell_type": "code",
   "execution_count": null,
   "id": "af4df408",
   "metadata": {
    "scrolled": true
   },
   "outputs": [],
   "source": [
    "figure = px.scatter(data_frame = data, x=\"Profile Visits\",\n",
    "                    y=\"Follows\", size=\"Follows\", trendline=\"ols\", \n",
    "                    title = \"Relationship Between Profile Visits and Followers Gained\")\n",
    "figure.show()"
   ]
  },
  {
   "cell_type": "markdown",
   "id": "c75b3844",
   "metadata": {},
   "source": [
    "# Instagram Reach Prediction Model"
   ]
  },
  {
   "cell_type": "code",
   "execution_count": null,
   "id": "8c2eb979",
   "metadata": {},
   "outputs": [],
   "source": [
    "x = np.array(data[['Likes', 'Saves', 'Comments', 'Shares', \n",
    "                   'Profile Visits', 'Follows']])\n",
    "y = np.array(data['Impressions'])\n",
    "xtrain,xtest,ytrain,ytest = train_test_split(x , y,test_size=0.3,random_state=42)"
   ]
  },
  {
   "cell_type": "code",
   "execution_count": null,
   "id": "ef1e248a",
   "metadata": {},
   "outputs": [],
   "source": [
    "model = PassiveAggressiveRegressor()\n",
    "model.fit(xtrain,ytrain)\n",
    "model.score(xtest,ytest)"
   ]
  },
  {
   "cell_type": "code",
   "execution_count": null,
   "id": "5dcdef5b",
   "metadata": {},
   "outputs": [],
   "source": [
    "# Features = [['Likes','Saves', 'Comments', 'Shares', 'Profile Visits', 'Follows']]\n",
    "features = np.array([[282.0, 233.0, 4.0, 9.0, 165.0, 54.0]])\n",
    "model.predict(features)"
   ]
  },
  {
   "cell_type": "code",
   "execution_count": null,
   "id": "090aea6c",
   "metadata": {},
   "outputs": [],
   "source": []
  }
 ],
 "metadata": {
  "kernelspec": {
   "display_name": "Python 3 (ipykernel)",
   "language": "python",
   "name": "python3"
  },
  "language_info": {
   "codemirror_mode": {
    "name": "ipython",
    "version": 3
   },
   "file_extension": ".py",
   "mimetype": "text/x-python",
   "name": "python",
   "nbconvert_exporter": "python",
   "pygments_lexer": "ipython3",
   "version": "3.11.3"
  }
 },
 "nbformat": 4,
 "nbformat_minor": 5
}
